{
 "cells": [
  {
   "cell_type": "markdown",
   "metadata": {},
   "source": [
    "![alt text](https://static1.squarespace.com/static/5ea57eb1c6398826cb20f779/t/5ea5875b36c5d45a8f64f9f3/1595005115947/?format=180w 'DNAstack logo')\n",
    "\n",
    "\n",
    "For demonstration purposes only\n",
    "\n",
    "# Statistical Analysis Using COVID Cloud and Azure\n",
    "\n",
    "In this notebook we will be demonstrating how to do statistical analysis with Azure Notebooks using SARS-CoV-2 variant data from COVID Cloud.\n",
    "\n",
    "The statistical analysis in this notebook will include:\n",
    "\n",
    "1. Basic Summary Statistics using `pandas`\n",
    "3. Hypothesis Testing using `scipy`\n",
    "2. Phylogenetic Trees using `scipy`\n",
    "\n",
    "Before you begin, you must download the libraries required for this analysis, and restart the notebook if necessary. In order to download the necessary libraries, make sure the requirements.txt file is included in the directory."
   ]
  },
  {
   "cell_type": "code",
   "execution_count": null,
   "metadata": {},
   "outputs": [],
   "source": [
    "pip install --no-cache-dir -r requirements.txt"
   ]
  },
  {
   "cell_type": "markdown",
   "metadata": {},
   "source": [
    "The next and most important step is to use the `search_python_client` library to download COVID variant data. \n",
    "\n",
    "There are 2 main tables we want to use for the analysis:\n",
    "- `variant` table\n",
    "- `meta` table \n",
    "\n",
    "The following downloads should be complete in one to two minutes."
   ]
  },
  {
   "cell_type": "code",
   "execution_count": null,
   "metadata": {},
   "outputs": [],
   "source": [
    "import pandas as pd\n",
    "import json\n",
    "\n",
    "from dnastack import PublisherClient\n",
    "\n",
    "#### Create the client\n",
    "dataconnect_url = 'https://collection-service.publisher.dnastack.com/collection/library/search/'\n",
    "publisher_client = PublisherClient(dataconnect_url=dataconnect_url)\n",
    "\n",
    "#### Download metadata\n",
    "print('Fetching metadata from DNAstack…')\n",
    "query = \"SELECT * FROM covid.cloud.sequences WHERE collection_date < date('2020-09-01')\"\n",
    "meta_df = pd.DataFrame(publisher_client.dataconnect.query(query))\n",
    "print(\"Metadata:\")\n",
    "print(meta_df)\n",
    "\n",
    "#### Download variant data\n",
    "print('Fetching variants from DNAstack…')\n",
    "query = \"\"\"\n",
    "SELECT v.*\n",
    "FROM covid.cloud.variants AS v JOIN covid.cloud.sequences AS s ON s.accession = sequence_accession\n",
    "WHERE s.collection_date < date('2020-09-01')\n",
    "\"\"\"\n",
    "variant_df = pd.DataFrame(publisher_client.dataconnect.query(query))\n",
    "print(\"Variant Data:\")\n",
    "print(variant_df)"
   ]
  },
  {
   "cell_type": "markdown",
   "metadata": {},
   "source": [
    "Here is a quick look at each table!"
   ]
  },
  {
   "cell_type": "code",
   "execution_count": null,
   "metadata": {},
   "outputs": [],
   "source": [
    "meta_df.head(3)"
   ]
  },
  {
   "cell_type": "code",
   "execution_count": null,
   "metadata": {},
   "outputs": [],
   "source": [
    "variant_df.head(3)"
   ]
  },
  {
   "cell_type": "markdown",
   "metadata": {},
   "source": [
    "## 1. Basic Summary Statistics using Pandas\n",
    "\n",
    "In this example, you will be investigating the number of samples by variant."
   ]
  },
  {
   "cell_type": "code",
   "execution_count": null,
   "metadata": {},
   "outputs": [],
   "source": [
    "import pandas as pd\n",
    "\n",
    "#  Plot the number of variants there are at each position for the top 20 most frequent variants\n",
    "_ = (\n",
    "    variant_df.start_position\n",
    "              .value_counts()\n",
    "              .head(20)\n",
    "              .plot.bar(figsize=(10, 5),\n",
    "                        xlabel='Position',\n",
    "                        ylabel='# Samples')\n",
    ")"
   ]
  },
  {
   "cell_type": "markdown",
   "metadata": {},
   "source": [
    "We can see that the 23402 variant is the most prevalent of all variants. Variant 23402 responds to the D614G mutation."
   ]
  },
  {
   "cell_type": "markdown",
   "metadata": {},
   "source": [
    "## 2. Hypothesis Testing using SciPy\n",
    "\n",
    "In this example, you will be investigating the difference between the proportion of positive and negative samples of the D614 variant in March and August."
   ]
  },
  {
   "cell_type": "code",
   "execution_count": null,
   "metadata": {},
   "outputs": [],
   "source": [
    "from scipy.stats import chi2_contingency\n",
    "\n",
    "# Get sample accessions for samples that have the D614G mutation\n",
    "accessions = variant_df[variant_df.start_position == 23402].sequence_accession\n",
    "\n",
    "# Filter by months { collection_date.contains(2020-03), collection_date.contains(2020-08) } \n",
    "march_meta_df = meta_df[meta_df.collection_date.str.contains('2020-03', na=False)] \n",
    "august_meta_df = meta_df[meta_df.collection_date.str.contains('2020-08', na=False)]\n",
    "\n",
    "# Filter meta table by sample accessions to obtain contingency data\n",
    "h0_n = march_meta_df[~(march_meta_df.accession.isin(accessions))].shape[0]\n",
    "h0_p = march_meta_df[(march_meta_df.accession.isin(accessions))].shape[0]\n",
    "h1_n = august_meta_df[~(august_meta_df.accession.isin(accessions))].shape[0]\n",
    "h1_p = august_meta_df[(august_meta_df.accession.isin(accessions))].shape[0]\n",
    "\n",
    "# Chi2 test\n",
    "chi_results = chi2_contingency([[h0_n, h0_p],\n",
    "                                [h1_n, h1_p]])\n",
    "print('χ2:', chi_results[0])\n",
    "print('p:', chi_results[1])"
   ]
  },
  {
   "cell_type": "markdown",
   "metadata": {},
   "source": [
    "As the data shows, there is a significant difference between the proportion of D614 positive samples to negative samples in March and August!"
   ]
  },
  {
   "cell_type": "markdown",
   "metadata": {},
   "source": [
    "## 3. Phylogenetic Trees using SciPy\n",
    "\n",
    "In this example, we will be creating a phylogenetic tree for the 20 most common variants, in order to investigate which variants most commonly occur together."
   ]
  },
  {
   "cell_type": "code",
   "execution_count": null,
   "metadata": {},
   "outputs": [],
   "source": [
    "import matplotlib.pyplot as plt\n",
    "import pandas as pd\n",
    "import seaborn as sns\n",
    "import warnings\n",
    "warnings.simplefilter('ignore')\n",
    "\n",
    "from scipy.cluster import hierarchy\n",
    "from scipy.spatial.distance import pdist, squareform\n",
    "\n",
    "# Filtering to 20 variants\n",
    "v_df = variant_df[variant_df.start_position.isin(variant_df.start_position.value_counts().iloc[100: 120].index)]\n",
    "\n",
    "# Distance calculations\n",
    "ct           = pd.crosstab(v_df.sequence_accession, v_df.start_position)\n",
    "corr         = squareform(pdist(ct.T, metric='hamming'))\n",
    "corr_linkage = hierarchy.ward(corr)\n",
    "\n",
    "# Plot misc\n",
    "sns.set_style(\"white\")\n",
    "plt.rcParams[\"font.family\"] = \"serif\"\n",
    "\n",
    "# Figure\n",
    "fig, ax = plt.subplots(nrows=1, ncols=2, figsize=(20, 8))\n",
    "fig.set_facecolor('white')\n",
    "ax1, ax2 = ax\n",
    "\n",
    "# Plot\n",
    "_ = hierarchy.dendrogram(corr_linkage, labels=ct.columns, leaf_rotation=90, ax=ax1)\n",
    "sns.heatmap(pd.DataFrame(corr, columns=ct.columns, index=ct.columns), ax=ax2)\n",
    "\n",
    "# Labels\n",
    "_ = fig.suptitle('Phylogenetic Analysis on SARS-CoV-2 VOC SNPs', fontsize=28)\n",
    "_ = ax1.set_xlabel('SNP', fontsize=16)\n",
    "_ = ax1.set_ylabel('Distance', fontsize=16)\n",
    "_ = ax2.set_xlabel('SNP', fontsize=16)\n",
    "_ = ax2.set_ylabel('SNP', fontsize=16)\n",
    "\n",
    "# Ticks\n",
    "_ = ax1.tick_params(axis='both', labelsize=14)\n",
    "_ = ax2.tick_params(axis='both', labelsize=14)"
   ]
  },
  {
   "cell_type": "markdown",
   "metadata": {},
   "source": [
    "We can see distinct clusters from this analysis! This means that certain variants (e.g. 1384 and 3241) are more likely to be inherited together."
   ]
  }
 ],
 "metadata": {
  "kernelspec": {
   "display_name": "Python 3",
   "language": "python",
   "name": "python3"
  },
  "language_info": {
   "codemirror_mode": {
    "name": "ipython",
    "version": 3
   },
   "file_extension": ".py",
   "mimetype": "text/x-python",
   "name": "python",
   "nbconvert_exporter": "python",
   "pygments_lexer": "ipython3",
   "version": "3.6.9"
  }
 },
 "nbformat": 4,
 "nbformat_minor": 4
}
